{
 "cells": [
  {
   "cell_type": "code",
   "execution_count": 18,
   "metadata": {
    "scrolled": true
   },
   "outputs": [],
   "source": [
    "import numpy as np\n",
    "import pandas as pd\n",
    "import sklearn as skl\n",
    "\n",
    "from datetime import datetime\n",
    "from matplotlib import pyplot\n",
    "\n",
    "from sklearn.naive_bayes import GaussianNB\n",
    "from sklearn.ensemble import RandomForestClassifier\n",
    "from sklearn.ensemble import GradientBoostingClassifier\n",
    "\n",
    "from sklearn.model_selection import KFold\n",
    "from sklearn.model_selection import cross_val_score\n",
    "from sklearn.model_selection import GridSearchCV\n",
    "\n",
    "from sklearn.metrics import classification_report\n",
    "from sklearn.metrics import confusion_matrix\n",
    "from sklearn.metrics import accuracy_score\n",
    "\n",
    "from sklearn.externals.joblib import dump\n",
    "from sklearn.externals.joblib import load\n"
   ]
  },
  {
   "cell_type": "markdown",
   "metadata": {},
   "source": [
    "### 1a) Load training and testing dataset"
   ]
  },
  {
   "cell_type": "code",
   "execution_count": 19,
   "metadata": {},
   "outputs": [
    {
     "data": {
      "text/html": [
       "<div>\n",
       "<style scoped>\n",
       "    .dataframe tbody tr th:only-of-type {\n",
       "        vertical-align: middle;\n",
       "    }\n",
       "\n",
       "    .dataframe tbody tr th {\n",
       "        vertical-align: top;\n",
       "    }\n",
       "\n",
       "    .dataframe thead th {\n",
       "        text-align: right;\n",
       "    }\n",
       "</style>\n",
       "<table border=\"1\" class=\"dataframe\">\n",
       "  <thead>\n",
       "    <tr style=\"text-align: right;\">\n",
       "      <th></th>\n",
       "      <th>class</th>\n",
       "      <th>aa_000</th>\n",
       "      <th>ab_000</th>\n",
       "      <th>ac_000</th>\n",
       "      <th>ad_000</th>\n",
       "      <th>ae_000</th>\n",
       "      <th>af_000</th>\n",
       "      <th>ag_000</th>\n",
       "      <th>ag_001</th>\n",
       "      <th>ag_002</th>\n",
       "      <th>...</th>\n",
       "      <th>ee_002</th>\n",
       "      <th>ee_003</th>\n",
       "      <th>ee_004</th>\n",
       "      <th>ee_005</th>\n",
       "      <th>ee_006</th>\n",
       "      <th>ee_007</th>\n",
       "      <th>ee_008</th>\n",
       "      <th>ee_009</th>\n",
       "      <th>ef_000</th>\n",
       "      <th>eg_000</th>\n",
       "    </tr>\n",
       "  </thead>\n",
       "  <tbody>\n",
       "    <tr>\n",
       "      <th>59995</th>\n",
       "      <td>neg</td>\n",
       "      <td>153002</td>\n",
       "      <td>NaN</td>\n",
       "      <td>6.640000e+02</td>\n",
       "      <td>186.0</td>\n",
       "      <td>0.0</td>\n",
       "      <td>0.0</td>\n",
       "      <td>0.0</td>\n",
       "      <td>0.0</td>\n",
       "      <td>0.0</td>\n",
       "      <td>...</td>\n",
       "      <td>998500.0</td>\n",
       "      <td>566884.0</td>\n",
       "      <td>1290398.0</td>\n",
       "      <td>1218244.0</td>\n",
       "      <td>1019768.0</td>\n",
       "      <td>717762.0</td>\n",
       "      <td>898642.0</td>\n",
       "      <td>28588.0</td>\n",
       "      <td>0.0</td>\n",
       "      <td>0.0</td>\n",
       "    </tr>\n",
       "    <tr>\n",
       "      <th>59996</th>\n",
       "      <td>neg</td>\n",
       "      <td>2286</td>\n",
       "      <td>NaN</td>\n",
       "      <td>2.130707e+09</td>\n",
       "      <td>224.0</td>\n",
       "      <td>0.0</td>\n",
       "      <td>0.0</td>\n",
       "      <td>0.0</td>\n",
       "      <td>0.0</td>\n",
       "      <td>0.0</td>\n",
       "      <td>...</td>\n",
       "      <td>10578.0</td>\n",
       "      <td>6760.0</td>\n",
       "      <td>21126.0</td>\n",
       "      <td>68424.0</td>\n",
       "      <td>136.0</td>\n",
       "      <td>0.0</td>\n",
       "      <td>0.0</td>\n",
       "      <td>0.0</td>\n",
       "      <td>0.0</td>\n",
       "      <td>0.0</td>\n",
       "    </tr>\n",
       "    <tr>\n",
       "      <th>59997</th>\n",
       "      <td>neg</td>\n",
       "      <td>112</td>\n",
       "      <td>0.0</td>\n",
       "      <td>2.130706e+09</td>\n",
       "      <td>18.0</td>\n",
       "      <td>0.0</td>\n",
       "      <td>0.0</td>\n",
       "      <td>0.0</td>\n",
       "      <td>0.0</td>\n",
       "      <td>0.0</td>\n",
       "      <td>...</td>\n",
       "      <td>792.0</td>\n",
       "      <td>386.0</td>\n",
       "      <td>452.0</td>\n",
       "      <td>144.0</td>\n",
       "      <td>146.0</td>\n",
       "      <td>2622.0</td>\n",
       "      <td>0.0</td>\n",
       "      <td>0.0</td>\n",
       "      <td>0.0</td>\n",
       "      <td>0.0</td>\n",
       "    </tr>\n",
       "    <tr>\n",
       "      <th>59998</th>\n",
       "      <td>neg</td>\n",
       "      <td>80292</td>\n",
       "      <td>NaN</td>\n",
       "      <td>2.130706e+09</td>\n",
       "      <td>494.0</td>\n",
       "      <td>0.0</td>\n",
       "      <td>0.0</td>\n",
       "      <td>0.0</td>\n",
       "      <td>0.0</td>\n",
       "      <td>0.0</td>\n",
       "      <td>...</td>\n",
       "      <td>699352.0</td>\n",
       "      <td>222654.0</td>\n",
       "      <td>347378.0</td>\n",
       "      <td>225724.0</td>\n",
       "      <td>194440.0</td>\n",
       "      <td>165070.0</td>\n",
       "      <td>802280.0</td>\n",
       "      <td>388422.0</td>\n",
       "      <td>0.0</td>\n",
       "      <td>0.0</td>\n",
       "    </tr>\n",
       "    <tr>\n",
       "      <th>59999</th>\n",
       "      <td>neg</td>\n",
       "      <td>40222</td>\n",
       "      <td>NaN</td>\n",
       "      <td>6.980000e+02</td>\n",
       "      <td>628.0</td>\n",
       "      <td>0.0</td>\n",
       "      <td>0.0</td>\n",
       "      <td>0.0</td>\n",
       "      <td>0.0</td>\n",
       "      <td>0.0</td>\n",
       "      <td>...</td>\n",
       "      <td>440066.0</td>\n",
       "      <td>183200.0</td>\n",
       "      <td>344546.0</td>\n",
       "      <td>254068.0</td>\n",
       "      <td>225148.0</td>\n",
       "      <td>158304.0</td>\n",
       "      <td>170384.0</td>\n",
       "      <td>158.0</td>\n",
       "      <td>0.0</td>\n",
       "      <td>0.0</td>\n",
       "    </tr>\n",
       "  </tbody>\n",
       "</table>\n",
       "<p>5 rows × 171 columns</p>\n",
       "</div>"
      ],
      "text/plain": [
       "      class  aa_000  ab_000        ac_000  ad_000  ae_000  af_000  ag_000  \\\n",
       "59995   neg  153002     NaN  6.640000e+02   186.0     0.0     0.0     0.0   \n",
       "59996   neg    2286     NaN  2.130707e+09   224.0     0.0     0.0     0.0   \n",
       "59997   neg     112     0.0  2.130706e+09    18.0     0.0     0.0     0.0   \n",
       "59998   neg   80292     NaN  2.130706e+09   494.0     0.0     0.0     0.0   \n",
       "59999   neg   40222     NaN  6.980000e+02   628.0     0.0     0.0     0.0   \n",
       "\n",
       "       ag_001  ag_002  ...    ee_002    ee_003     ee_004     ee_005  \\\n",
       "59995     0.0     0.0  ...  998500.0  566884.0  1290398.0  1218244.0   \n",
       "59996     0.0     0.0  ...   10578.0    6760.0    21126.0    68424.0   \n",
       "59997     0.0     0.0  ...     792.0     386.0      452.0      144.0   \n",
       "59998     0.0     0.0  ...  699352.0  222654.0   347378.0   225724.0   \n",
       "59999     0.0     0.0  ...  440066.0  183200.0   344546.0   254068.0   \n",
       "\n",
       "          ee_006    ee_007    ee_008    ee_009  ef_000  eg_000  \n",
       "59995  1019768.0  717762.0  898642.0   28588.0     0.0     0.0  \n",
       "59996      136.0       0.0       0.0       0.0     0.0     0.0  \n",
       "59997      146.0    2622.0       0.0       0.0     0.0     0.0  \n",
       "59998   194440.0  165070.0  802280.0  388422.0     0.0     0.0  \n",
       "59999   225148.0  158304.0  170384.0     158.0     0.0     0.0  \n",
       "\n",
       "[5 rows x 171 columns]"
      ]
     },
     "execution_count": 19,
     "metadata": {},
     "output_type": "execute_result"
    }
   ],
   "source": [
    "startTimeScript = datetime.now()\n",
    "\n",
    "file_path_train = 'aps_failure_training_set.csv'\n",
    "df_train = pd.read_csv(file_path_train, na_values=\"na\")\n",
    "\n",
    "file_path_test = 'aps_failure_test_set.csv'\n",
    "df_test = pd.read_csv(file_path_test, na_values=\"na\")\n",
    "\n",
    "df_train.tail()"
   ]
  },
  {
   "cell_type": "markdown",
   "metadata": {},
   "source": [
    "### 1b) Sanity check and convert a string to binary value\n",
    "\n",
    "    * There would be only two classes (neg and pos) so we will treat it as binary classification task which means we gonna another column to convert string class to binary values; neg to 0 and pos to 1"
   ]
  },
  {
   "cell_type": "code",
   "execution_count": 20,
   "metadata": {},
   "outputs": [],
   "source": [
    "df_train['targetVar'] = 1\n",
    "df_train['targetVar'] = np.where(df_train['class']=='neg', 0, df_train['targetVar'])\n",
    "df_train.drop('class', axis=1, inplace=True)\n",
    "\n",
    "df_test['targetVar'] = 1\n",
    "df_test['targetVar'] = np.where(df_test['class']=='neg', 0, df_test['targetVar'])\n",
    "df_test.drop('class', axis=1, inplace=True)\n",
    "\n",
    "df_train = df_train.rename(columns={'class': 'targetVar'})\n",
    "df_test = df_test.rename(columns={'class': 'targetVar'})"
   ]
  },
  {
   "cell_type": "code",
   "execution_count": 21,
   "metadata": {},
   "outputs": [
    {
     "data": {
      "text/html": [
       "<div>\n",
       "<style scoped>\n",
       "    .dataframe tbody tr th:only-of-type {\n",
       "        vertical-align: middle;\n",
       "    }\n",
       "\n",
       "    .dataframe tbody tr th {\n",
       "        vertical-align: top;\n",
       "    }\n",
       "\n",
       "    .dataframe thead th {\n",
       "        text-align: right;\n",
       "    }\n",
       "</style>\n",
       "<table border=\"1\" class=\"dataframe\">\n",
       "  <thead>\n",
       "    <tr style=\"text-align: right;\">\n",
       "      <th></th>\n",
       "      <th>aa_000</th>\n",
       "      <th>ab_000</th>\n",
       "      <th>ac_000</th>\n",
       "      <th>ad_000</th>\n",
       "      <th>ae_000</th>\n",
       "      <th>af_000</th>\n",
       "      <th>ag_000</th>\n",
       "      <th>ag_001</th>\n",
       "      <th>ag_002</th>\n",
       "      <th>ag_003</th>\n",
       "      <th>...</th>\n",
       "      <th>ee_003</th>\n",
       "      <th>ee_004</th>\n",
       "      <th>ee_005</th>\n",
       "      <th>ee_006</th>\n",
       "      <th>ee_007</th>\n",
       "      <th>ee_008</th>\n",
       "      <th>ee_009</th>\n",
       "      <th>ef_000</th>\n",
       "      <th>eg_000</th>\n",
       "      <th>targetVar</th>\n",
       "    </tr>\n",
       "  </thead>\n",
       "  <tbody>\n",
       "    <tr>\n",
       "      <th>0</th>\n",
       "      <td>76698</td>\n",
       "      <td>NaN</td>\n",
       "      <td>2.130706e+09</td>\n",
       "      <td>280.0</td>\n",
       "      <td>0.0</td>\n",
       "      <td>0.0</td>\n",
       "      <td>0.0</td>\n",
       "      <td>0.0</td>\n",
       "      <td>0.0</td>\n",
       "      <td>0.0</td>\n",
       "      <td>...</td>\n",
       "      <td>493384.0</td>\n",
       "      <td>721044.0</td>\n",
       "      <td>469792.0</td>\n",
       "      <td>339156.0</td>\n",
       "      <td>157956.0</td>\n",
       "      <td>73224.0</td>\n",
       "      <td>0.0</td>\n",
       "      <td>0.0</td>\n",
       "      <td>0.0</td>\n",
       "      <td>0</td>\n",
       "    </tr>\n",
       "    <tr>\n",
       "      <th>1</th>\n",
       "      <td>33058</td>\n",
       "      <td>NaN</td>\n",
       "      <td>0.000000e+00</td>\n",
       "      <td>NaN</td>\n",
       "      <td>0.0</td>\n",
       "      <td>0.0</td>\n",
       "      <td>0.0</td>\n",
       "      <td>0.0</td>\n",
       "      <td>0.0</td>\n",
       "      <td>0.0</td>\n",
       "      <td>...</td>\n",
       "      <td>178064.0</td>\n",
       "      <td>293306.0</td>\n",
       "      <td>245416.0</td>\n",
       "      <td>133654.0</td>\n",
       "      <td>81140.0</td>\n",
       "      <td>97576.0</td>\n",
       "      <td>1500.0</td>\n",
       "      <td>0.0</td>\n",
       "      <td>0.0</td>\n",
       "      <td>0</td>\n",
       "    </tr>\n",
       "    <tr>\n",
       "      <th>2</th>\n",
       "      <td>41040</td>\n",
       "      <td>NaN</td>\n",
       "      <td>2.280000e+02</td>\n",
       "      <td>100.0</td>\n",
       "      <td>0.0</td>\n",
       "      <td>0.0</td>\n",
       "      <td>0.0</td>\n",
       "      <td>0.0</td>\n",
       "      <td>0.0</td>\n",
       "      <td>0.0</td>\n",
       "      <td>...</td>\n",
       "      <td>159812.0</td>\n",
       "      <td>423992.0</td>\n",
       "      <td>409564.0</td>\n",
       "      <td>320746.0</td>\n",
       "      <td>158022.0</td>\n",
       "      <td>95128.0</td>\n",
       "      <td>514.0</td>\n",
       "      <td>0.0</td>\n",
       "      <td>0.0</td>\n",
       "      <td>0</td>\n",
       "    </tr>\n",
       "    <tr>\n",
       "      <th>3</th>\n",
       "      <td>12</td>\n",
       "      <td>0.0</td>\n",
       "      <td>7.000000e+01</td>\n",
       "      <td>66.0</td>\n",
       "      <td>0.0</td>\n",
       "      <td>10.0</td>\n",
       "      <td>0.0</td>\n",
       "      <td>0.0</td>\n",
       "      <td>0.0</td>\n",
       "      <td>318.0</td>\n",
       "      <td>...</td>\n",
       "      <td>46.0</td>\n",
       "      <td>58.0</td>\n",
       "      <td>44.0</td>\n",
       "      <td>10.0</td>\n",
       "      <td>0.0</td>\n",
       "      <td>0.0</td>\n",
       "      <td>0.0</td>\n",
       "      <td>4.0</td>\n",
       "      <td>32.0</td>\n",
       "      <td>0</td>\n",
       "    </tr>\n",
       "    <tr>\n",
       "      <th>4</th>\n",
       "      <td>60874</td>\n",
       "      <td>NaN</td>\n",
       "      <td>1.368000e+03</td>\n",
       "      <td>458.0</td>\n",
       "      <td>0.0</td>\n",
       "      <td>0.0</td>\n",
       "      <td>0.0</td>\n",
       "      <td>0.0</td>\n",
       "      <td>0.0</td>\n",
       "      <td>0.0</td>\n",
       "      <td>...</td>\n",
       "      <td>229790.0</td>\n",
       "      <td>405298.0</td>\n",
       "      <td>347188.0</td>\n",
       "      <td>286954.0</td>\n",
       "      <td>311560.0</td>\n",
       "      <td>433954.0</td>\n",
       "      <td>1218.0</td>\n",
       "      <td>0.0</td>\n",
       "      <td>0.0</td>\n",
       "      <td>0</td>\n",
       "    </tr>\n",
       "    <tr>\n",
       "      <th>5</th>\n",
       "      <td>38312</td>\n",
       "      <td>NaN</td>\n",
       "      <td>2.130706e+09</td>\n",
       "      <td>218.0</td>\n",
       "      <td>0.0</td>\n",
       "      <td>0.0</td>\n",
       "      <td>0.0</td>\n",
       "      <td>0.0</td>\n",
       "      <td>0.0</td>\n",
       "      <td>0.0</td>\n",
       "      <td>...</td>\n",
       "      <td>288278.0</td>\n",
       "      <td>900430.0</td>\n",
       "      <td>300412.0</td>\n",
       "      <td>1534.0</td>\n",
       "      <td>338.0</td>\n",
       "      <td>856.0</td>\n",
       "      <td>0.0</td>\n",
       "      <td>0.0</td>\n",
       "      <td>0.0</td>\n",
       "      <td>0</td>\n",
       "    </tr>\n",
       "    <tr>\n",
       "      <th>6</th>\n",
       "      <td>14</td>\n",
       "      <td>0.0</td>\n",
       "      <td>6.000000e+00</td>\n",
       "      <td>NaN</td>\n",
       "      <td>0.0</td>\n",
       "      <td>0.0</td>\n",
       "      <td>0.0</td>\n",
       "      <td>0.0</td>\n",
       "      <td>0.0</td>\n",
       "      <td>0.0</td>\n",
       "      <td>...</td>\n",
       "      <td>48.0</td>\n",
       "      <td>60.0</td>\n",
       "      <td>28.0</td>\n",
       "      <td>0.0</td>\n",
       "      <td>0.0</td>\n",
       "      <td>0.0</td>\n",
       "      <td>0.0</td>\n",
       "      <td>0.0</td>\n",
       "      <td>0.0</td>\n",
       "      <td>0</td>\n",
       "    </tr>\n",
       "    <tr>\n",
       "      <th>7</th>\n",
       "      <td>102960</td>\n",
       "      <td>NaN</td>\n",
       "      <td>2.130706e+09</td>\n",
       "      <td>116.0</td>\n",
       "      <td>0.0</td>\n",
       "      <td>0.0</td>\n",
       "      <td>0.0</td>\n",
       "      <td>0.0</td>\n",
       "      <td>0.0</td>\n",
       "      <td>0.0</td>\n",
       "      <td>...</td>\n",
       "      <td>384948.0</td>\n",
       "      <td>915978.0</td>\n",
       "      <td>1052166.0</td>\n",
       "      <td>1108672.0</td>\n",
       "      <td>341532.0</td>\n",
       "      <td>129504.0</td>\n",
       "      <td>7832.0</td>\n",
       "      <td>0.0</td>\n",
       "      <td>0.0</td>\n",
       "      <td>0</td>\n",
       "    </tr>\n",
       "    <tr>\n",
       "      <th>8</th>\n",
       "      <td>78696</td>\n",
       "      <td>NaN</td>\n",
       "      <td>0.000000e+00</td>\n",
       "      <td>NaN</td>\n",
       "      <td>0.0</td>\n",
       "      <td>0.0</td>\n",
       "      <td>0.0</td>\n",
       "      <td>0.0</td>\n",
       "      <td>0.0</td>\n",
       "      <td>0.0</td>\n",
       "      <td>...</td>\n",
       "      <td>362510.0</td>\n",
       "      <td>1190028.0</td>\n",
       "      <td>1012704.0</td>\n",
       "      <td>160090.0</td>\n",
       "      <td>63216.0</td>\n",
       "      <td>41202.0</td>\n",
       "      <td>4.0</td>\n",
       "      <td>0.0</td>\n",
       "      <td>0.0</td>\n",
       "      <td>0</td>\n",
       "    </tr>\n",
       "    <tr>\n",
       "      <th>9</th>\n",
       "      <td>153204</td>\n",
       "      <td>0.0</td>\n",
       "      <td>1.820000e+02</td>\n",
       "      <td>NaN</td>\n",
       "      <td>0.0</td>\n",
       "      <td>0.0</td>\n",
       "      <td>0.0</td>\n",
       "      <td>0.0</td>\n",
       "      <td>0.0</td>\n",
       "      <td>11804.0</td>\n",
       "      <td>...</td>\n",
       "      <td>26872.0</td>\n",
       "      <td>34044.0</td>\n",
       "      <td>22472.0</td>\n",
       "      <td>34362.0</td>\n",
       "      <td>0.0</td>\n",
       "      <td>0.0</td>\n",
       "      <td>0.0</td>\n",
       "      <td>0.0</td>\n",
       "      <td>0.0</td>\n",
       "      <td>1</td>\n",
       "    </tr>\n",
       "    <tr>\n",
       "      <th>10</th>\n",
       "      <td>39196</td>\n",
       "      <td>NaN</td>\n",
       "      <td>2.040000e+02</td>\n",
       "      <td>170.0</td>\n",
       "      <td>0.0</td>\n",
       "      <td>0.0</td>\n",
       "      <td>0.0</td>\n",
       "      <td>0.0</td>\n",
       "      <td>0.0</td>\n",
       "      <td>0.0</td>\n",
       "      <td>...</td>\n",
       "      <td>99614.0</td>\n",
       "      <td>215734.0</td>\n",
       "      <td>189966.0</td>\n",
       "      <td>219996.0</td>\n",
       "      <td>208724.0</td>\n",
       "      <td>463790.0</td>\n",
       "      <td>34054.0</td>\n",
       "      <td>0.0</td>\n",
       "      <td>0.0</td>\n",
       "      <td>0</td>\n",
       "    </tr>\n",
       "    <tr>\n",
       "      <th>11</th>\n",
       "      <td>45912</td>\n",
       "      <td>NaN</td>\n",
       "      <td>0.000000e+00</td>\n",
       "      <td>454.0</td>\n",
       "      <td>0.0</td>\n",
       "      <td>0.0</td>\n",
       "      <td>0.0</td>\n",
       "      <td>0.0</td>\n",
       "      <td>0.0</td>\n",
       "      <td>0.0</td>\n",
       "      <td>...</td>\n",
       "      <td>278660.0</td>\n",
       "      <td>544710.0</td>\n",
       "      <td>438256.0</td>\n",
       "      <td>249386.0</td>\n",
       "      <td>73356.0</td>\n",
       "      <td>51344.0</td>\n",
       "      <td>2008.0</td>\n",
       "      <td>0.0</td>\n",
       "      <td>0.0</td>\n",
       "      <td>0</td>\n",
       "    </tr>\n",
       "    <tr>\n",
       "      <th>12</th>\n",
       "      <td>2104</td>\n",
       "      <td>NaN</td>\n",
       "      <td>3.600000e+01</td>\n",
       "      <td>26.0</td>\n",
       "      <td>0.0</td>\n",
       "      <td>0.0</td>\n",
       "      <td>0.0</td>\n",
       "      <td>0.0</td>\n",
       "      <td>9744.0</td>\n",
       "      <td>13148.0</td>\n",
       "      <td>...</td>\n",
       "      <td>2330.0</td>\n",
       "      <td>4634.0</td>\n",
       "      <td>6534.0</td>\n",
       "      <td>29980.0</td>\n",
       "      <td>39372.0</td>\n",
       "      <td>0.0</td>\n",
       "      <td>0.0</td>\n",
       "      <td>0.0</td>\n",
       "      <td>0.0</td>\n",
       "      <td>0</td>\n",
       "    </tr>\n",
       "    <tr>\n",
       "      <th>13</th>\n",
       "      <td>118950</td>\n",
       "      <td>NaN</td>\n",
       "      <td>1.390000e+03</td>\n",
       "      <td>1298.0</td>\n",
       "      <td>0.0</td>\n",
       "      <td>0.0</td>\n",
       "      <td>0.0</td>\n",
       "      <td>0.0</td>\n",
       "      <td>0.0</td>\n",
       "      <td>0.0</td>\n",
       "      <td>...</td>\n",
       "      <td>1380302.0</td>\n",
       "      <td>2531322.0</td>\n",
       "      <td>426284.0</td>\n",
       "      <td>17996.0</td>\n",
       "      <td>11734.0</td>\n",
       "      <td>12506.0</td>\n",
       "      <td>138.0</td>\n",
       "      <td>0.0</td>\n",
       "      <td>0.0</td>\n",
       "      <td>0</td>\n",
       "    </tr>\n",
       "    <tr>\n",
       "      <th>14</th>\n",
       "      <td>24416</td>\n",
       "      <td>NaN</td>\n",
       "      <td>0.000000e+00</td>\n",
       "      <td>NaN</td>\n",
       "      <td>0.0</td>\n",
       "      <td>0.0</td>\n",
       "      <td>0.0</td>\n",
       "      <td>0.0</td>\n",
       "      <td>0.0</td>\n",
       "      <td>0.0</td>\n",
       "      <td>...</td>\n",
       "      <td>95674.0</td>\n",
       "      <td>207476.0</td>\n",
       "      <td>232470.0</td>\n",
       "      <td>154962.0</td>\n",
       "      <td>99406.0</td>\n",
       "      <td>121544.0</td>\n",
       "      <td>2712.0</td>\n",
       "      <td>0.0</td>\n",
       "      <td>0.0</td>\n",
       "      <td>0</td>\n",
       "    </tr>\n",
       "    <tr>\n",
       "      <th>15</th>\n",
       "      <td>14</td>\n",
       "      <td>0.0</td>\n",
       "      <td>6.200000e+01</td>\n",
       "      <td>34.0</td>\n",
       "      <td>0.0</td>\n",
       "      <td>0.0</td>\n",
       "      <td>0.0</td>\n",
       "      <td>0.0</td>\n",
       "      <td>0.0</td>\n",
       "      <td>0.0</td>\n",
       "      <td>...</td>\n",
       "      <td>42.0</td>\n",
       "      <td>48.0</td>\n",
       "      <td>28.0</td>\n",
       "      <td>32.0</td>\n",
       "      <td>10.0</td>\n",
       "      <td>0.0</td>\n",
       "      <td>0.0</td>\n",
       "      <td>0.0</td>\n",
       "      <td>0.0</td>\n",
       "      <td>0</td>\n",
       "    </tr>\n",
       "    <tr>\n",
       "      <th>16</th>\n",
       "      <td>31300</td>\n",
       "      <td>0.0</td>\n",
       "      <td>7.840000e+02</td>\n",
       "      <td>740.0</td>\n",
       "      <td>0.0</td>\n",
       "      <td>0.0</td>\n",
       "      <td>0.0</td>\n",
       "      <td>0.0</td>\n",
       "      <td>0.0</td>\n",
       "      <td>20386.0</td>\n",
       "      <td>...</td>\n",
       "      <td>112724.0</td>\n",
       "      <td>51736.0</td>\n",
       "      <td>7054.0</td>\n",
       "      <td>6628.0</td>\n",
       "      <td>27600.0</td>\n",
       "      <td>2.0</td>\n",
       "      <td>2.0</td>\n",
       "      <td>0.0</td>\n",
       "      <td>0.0</td>\n",
       "      <td>0</td>\n",
       "    </tr>\n",
       "    <tr>\n",
       "      <th>17</th>\n",
       "      <td>736</td>\n",
       "      <td>2.0</td>\n",
       "      <td>2.400000e+01</td>\n",
       "      <td>22.0</td>\n",
       "      <td>16.0</td>\n",
       "      <td>20.0</td>\n",
       "      <td>0.0</td>\n",
       "      <td>0.0</td>\n",
       "      <td>0.0</td>\n",
       "      <td>1144.0</td>\n",
       "      <td>...</td>\n",
       "      <td>812.0</td>\n",
       "      <td>2488.0</td>\n",
       "      <td>2340.0</td>\n",
       "      <td>2566.0</td>\n",
       "      <td>20870.0</td>\n",
       "      <td>38.0</td>\n",
       "      <td>0.0</td>\n",
       "      <td>0.0</td>\n",
       "      <td>0.0</td>\n",
       "      <td>0</td>\n",
       "    </tr>\n",
       "    <tr>\n",
       "      <th>18</th>\n",
       "      <td>332</td>\n",
       "      <td>NaN</td>\n",
       "      <td>2.130706e+09</td>\n",
       "      <td>20.0</td>\n",
       "      <td>0.0</td>\n",
       "      <td>0.0</td>\n",
       "      <td>0.0</td>\n",
       "      <td>0.0</td>\n",
       "      <td>0.0</td>\n",
       "      <td>0.0</td>\n",
       "      <td>...</td>\n",
       "      <td>296.0</td>\n",
       "      <td>878.0</td>\n",
       "      <td>11774.0</td>\n",
       "      <td>8.0</td>\n",
       "      <td>0.0</td>\n",
       "      <td>0.0</td>\n",
       "      <td>0.0</td>\n",
       "      <td>0.0</td>\n",
       "      <td>0.0</td>\n",
       "      <td>0</td>\n",
       "    </tr>\n",
       "    <tr>\n",
       "      <th>19</th>\n",
       "      <td>1432</td>\n",
       "      <td>NaN</td>\n",
       "      <td>2.130706e+09</td>\n",
       "      <td>82.0</td>\n",
       "      <td>0.0</td>\n",
       "      <td>0.0</td>\n",
       "      <td>0.0</td>\n",
       "      <td>0.0</td>\n",
       "      <td>0.0</td>\n",
       "      <td>0.0</td>\n",
       "      <td>...</td>\n",
       "      <td>1480.0</td>\n",
       "      <td>4822.0</td>\n",
       "      <td>53694.0</td>\n",
       "      <td>1116.0</td>\n",
       "      <td>16.0</td>\n",
       "      <td>0.0</td>\n",
       "      <td>0.0</td>\n",
       "      <td>0.0</td>\n",
       "      <td>0.0</td>\n",
       "      <td>0</td>\n",
       "    </tr>\n",
       "  </tbody>\n",
       "</table>\n",
       "<p>20 rows × 171 columns</p>\n",
       "</div>"
      ],
      "text/plain": [
       "    aa_000  ab_000        ac_000  ad_000  ae_000  af_000  ag_000  ag_001  \\\n",
       "0    76698     NaN  2.130706e+09   280.0     0.0     0.0     0.0     0.0   \n",
       "1    33058     NaN  0.000000e+00     NaN     0.0     0.0     0.0     0.0   \n",
       "2    41040     NaN  2.280000e+02   100.0     0.0     0.0     0.0     0.0   \n",
       "3       12     0.0  7.000000e+01    66.0     0.0    10.0     0.0     0.0   \n",
       "4    60874     NaN  1.368000e+03   458.0     0.0     0.0     0.0     0.0   \n",
       "5    38312     NaN  2.130706e+09   218.0     0.0     0.0     0.0     0.0   \n",
       "6       14     0.0  6.000000e+00     NaN     0.0     0.0     0.0     0.0   \n",
       "7   102960     NaN  2.130706e+09   116.0     0.0     0.0     0.0     0.0   \n",
       "8    78696     NaN  0.000000e+00     NaN     0.0     0.0     0.0     0.0   \n",
       "9   153204     0.0  1.820000e+02     NaN     0.0     0.0     0.0     0.0   \n",
       "10   39196     NaN  2.040000e+02   170.0     0.0     0.0     0.0     0.0   \n",
       "11   45912     NaN  0.000000e+00   454.0     0.0     0.0     0.0     0.0   \n",
       "12    2104     NaN  3.600000e+01    26.0     0.0     0.0     0.0     0.0   \n",
       "13  118950     NaN  1.390000e+03  1298.0     0.0     0.0     0.0     0.0   \n",
       "14   24416     NaN  0.000000e+00     NaN     0.0     0.0     0.0     0.0   \n",
       "15      14     0.0  6.200000e+01    34.0     0.0     0.0     0.0     0.0   \n",
       "16   31300     0.0  7.840000e+02   740.0     0.0     0.0     0.0     0.0   \n",
       "17     736     2.0  2.400000e+01    22.0    16.0    20.0     0.0     0.0   \n",
       "18     332     NaN  2.130706e+09    20.0     0.0     0.0     0.0     0.0   \n",
       "19    1432     NaN  2.130706e+09    82.0     0.0     0.0     0.0     0.0   \n",
       "\n",
       "    ag_002   ag_003  ...     ee_003     ee_004     ee_005     ee_006  \\\n",
       "0      0.0      0.0  ...   493384.0   721044.0   469792.0   339156.0   \n",
       "1      0.0      0.0  ...   178064.0   293306.0   245416.0   133654.0   \n",
       "2      0.0      0.0  ...   159812.0   423992.0   409564.0   320746.0   \n",
       "3      0.0    318.0  ...       46.0       58.0       44.0       10.0   \n",
       "4      0.0      0.0  ...   229790.0   405298.0   347188.0   286954.0   \n",
       "5      0.0      0.0  ...   288278.0   900430.0   300412.0     1534.0   \n",
       "6      0.0      0.0  ...       48.0       60.0       28.0        0.0   \n",
       "7      0.0      0.0  ...   384948.0   915978.0  1052166.0  1108672.0   \n",
       "8      0.0      0.0  ...   362510.0  1190028.0  1012704.0   160090.0   \n",
       "9      0.0  11804.0  ...    26872.0    34044.0    22472.0    34362.0   \n",
       "10     0.0      0.0  ...    99614.0   215734.0   189966.0   219996.0   \n",
       "11     0.0      0.0  ...   278660.0   544710.0   438256.0   249386.0   \n",
       "12  9744.0  13148.0  ...     2330.0     4634.0     6534.0    29980.0   \n",
       "13     0.0      0.0  ...  1380302.0  2531322.0   426284.0    17996.0   \n",
       "14     0.0      0.0  ...    95674.0   207476.0   232470.0   154962.0   \n",
       "15     0.0      0.0  ...       42.0       48.0       28.0       32.0   \n",
       "16     0.0  20386.0  ...   112724.0    51736.0     7054.0     6628.0   \n",
       "17     0.0   1144.0  ...      812.0     2488.0     2340.0     2566.0   \n",
       "18     0.0      0.0  ...      296.0      878.0    11774.0        8.0   \n",
       "19     0.0      0.0  ...     1480.0     4822.0    53694.0     1116.0   \n",
       "\n",
       "      ee_007    ee_008   ee_009  ef_000  eg_000  targetVar  \n",
       "0   157956.0   73224.0      0.0     0.0     0.0          0  \n",
       "1    81140.0   97576.0   1500.0     0.0     0.0          0  \n",
       "2   158022.0   95128.0    514.0     0.0     0.0          0  \n",
       "3        0.0       0.0      0.0     4.0    32.0          0  \n",
       "4   311560.0  433954.0   1218.0     0.0     0.0          0  \n",
       "5      338.0     856.0      0.0     0.0     0.0          0  \n",
       "6        0.0       0.0      0.0     0.0     0.0          0  \n",
       "7   341532.0  129504.0   7832.0     0.0     0.0          0  \n",
       "8    63216.0   41202.0      4.0     0.0     0.0          0  \n",
       "9        0.0       0.0      0.0     0.0     0.0          1  \n",
       "10  208724.0  463790.0  34054.0     0.0     0.0          0  \n",
       "11   73356.0   51344.0   2008.0     0.0     0.0          0  \n",
       "12   39372.0       0.0      0.0     0.0     0.0          0  \n",
       "13   11734.0   12506.0    138.0     0.0     0.0          0  \n",
       "14   99406.0  121544.0   2712.0     0.0     0.0          0  \n",
       "15      10.0       0.0      0.0     0.0     0.0          0  \n",
       "16   27600.0       2.0      2.0     0.0     0.0          0  \n",
       "17   20870.0      38.0      0.0     0.0     0.0          0  \n",
       "18       0.0       0.0      0.0     0.0     0.0          0  \n",
       "19      16.0       0.0      0.0     0.0     0.0          0  \n",
       "\n",
       "[20 rows x 171 columns]"
      ]
     },
     "execution_count": 21,
     "metadata": {},
     "output_type": "execute_result"
    }
   ],
   "source": [
    "df_train.head(20)"
   ]
  },
  {
   "cell_type": "markdown",
   "metadata": {},
   "source": [
    "## 2 - Summarize data\n",
    "Basically we will check a simple stats and data viz for better understanding and it somehow will lead to new questions after that."
   ]
  },
  {
   "cell_type": "markdown",
   "metadata": {},
   "source": [
    "### 2a) Dimensions of the datasets"
   ]
  },
  {
   "cell_type": "code",
   "execution_count": 22,
   "metadata": {},
   "outputs": [
    {
     "name": "stdout",
     "output_type": "stream",
     "text": [
      "Train : (60000, 171) | Test : (16000, 171)\n"
     ]
    }
   ],
   "source": [
    "print(f\"Train : {df_train.shape} | Test : {df_test.shape}\")"
   ]
  },
  {
   "cell_type": "markdown",
   "metadata": {},
   "source": [
    "### 2b) Data attributes"
   ]
  },
  {
   "cell_type": "code",
   "execution_count": 23,
   "metadata": {},
   "outputs": [
    {
     "name": "stdout",
     "output_type": "stream",
     "text": [
      "aa_000         int64\n",
      "ab_000       float64\n",
      "ac_000       float64\n",
      "ad_000       float64\n",
      "ae_000       float64\n",
      "              ...   \n",
      "ee_008       float64\n",
      "ee_009       float64\n",
      "ef_000       float64\n",
      "eg_000       float64\n",
      "targetVar      int64\n",
      "Length: 171, dtype: object\n"
     ]
    }
   ],
   "source": [
    "print(df_train.dtypes)"
   ]
  },
  {
   "cell_type": "markdown",
   "metadata": {},
   "source": [
    "### 2c) Data attributes"
   ]
  },
  {
   "cell_type": "code",
   "execution_count": 24,
   "metadata": {},
   "outputs": [
    {
     "name": "stdout",
     "output_type": "stream",
     "text": [
      "             aa_000        ab_000        ac_000        ad_000        ae_000  \\\n",
      "count  6.000000e+04  13671.000000  5.666500e+04  4.513900e+04  57500.000000   \n",
      "mean   5.933650e+04      0.713189  3.560143e+08  1.906206e+05      6.819130   \n",
      "std    1.454301e+05      3.478962  7.948749e+08  4.040441e+07    161.543373   \n",
      "min    0.000000e+00      0.000000  0.000000e+00  0.000000e+00      0.000000   \n",
      "25%    8.340000e+02      0.000000  1.600000e+01  2.400000e+01      0.000000   \n",
      "50%    3.077600e+04      0.000000  1.520000e+02  1.260000e+02      0.000000   \n",
      "75%    4.866800e+04      0.000000  9.640000e+02  4.300000e+02      0.000000   \n",
      "max    2.746564e+06    204.000000  2.130707e+09  8.584298e+09  21050.000000   \n",
      "\n",
      "             af_000        ag_000        ag_001        ag_002        ag_003  \\\n",
      "count  57500.000000  5.932900e+04  5.932900e+04  5.932900e+04  5.932900e+04   \n",
      "mean      11.006817  2.216364e+02  9.757223e+02  8.606015e+03  8.859128e+04   \n",
      "std      209.792592  2.047846e+04  3.420053e+04  1.503220e+05  7.617312e+05   \n",
      "min        0.000000  0.000000e+00  0.000000e+00  0.000000e+00  0.000000e+00   \n",
      "25%        0.000000  0.000000e+00  0.000000e+00  0.000000e+00  0.000000e+00   \n",
      "50%        0.000000  0.000000e+00  0.000000e+00  0.000000e+00  0.000000e+00   \n",
      "75%        0.000000  0.000000e+00  0.000000e+00  0.000000e+00  0.000000e+00   \n",
      "max    20070.000000  3.376892e+06  4.109372e+06  1.055286e+07  6.340207e+07   \n",
      "\n",
      "       ...        ee_003        ee_004        ee_005        ee_006  \\\n",
      "count  ...  5.932900e+04  5.932900e+04  5.932900e+04  5.932900e+04   \n",
      "mean   ...  2.111264e+05  4.457343e+05  3.939462e+05  3.330582e+05   \n",
      "std    ...  5.433188e+05  1.168314e+06  1.121044e+06  1.069160e+06   \n",
      "min    ...  0.000000e+00  0.000000e+00  0.000000e+00  0.000000e+00   \n",
      "25%    ...  1.166000e+03  2.700000e+03  3.584000e+03  5.120000e+02   \n",
      "50%    ...  1.120860e+05  2.215180e+05  1.899880e+05  9.243200e+04   \n",
      "75%    ...  2.182320e+05  4.666140e+05  4.032220e+05  2.750940e+05   \n",
      "max    ...  3.775839e+07  9.715238e+07  5.743524e+07  3.160781e+07   \n",
      "\n",
      "             ee_007        ee_008        ee_009        ef_000        eg_000  \\\n",
      "count  5.932900e+04  5.932900e+04  5.932900e+04  57276.000000  57277.000000   \n",
      "mean   3.462714e+05  1.387300e+05  8.388915e+03      0.090579      0.212756   \n",
      "std    1.728056e+06  4.495100e+05  4.747043e+04      4.368855      8.830641   \n",
      "min    0.000000e+00  0.000000e+00  0.000000e+00      0.000000      0.000000   \n",
      "25%    1.100000e+02  0.000000e+00  0.000000e+00      0.000000      0.000000   \n",
      "50%    4.109800e+04  3.812000e+03  0.000000e+00      0.000000      0.000000   \n",
      "75%    1.678140e+05  1.397240e+05  2.028000e+03      0.000000      0.000000   \n",
      "max    1.195801e+08  1.926740e+07  3.810078e+06    482.000000   1146.000000   \n",
      "\n",
      "          targetVar  \n",
      "count  60000.000000  \n",
      "mean       0.016667  \n",
      "std        0.128020  \n",
      "min        0.000000  \n",
      "25%        0.000000  \n",
      "50%        0.000000  \n",
      "75%        0.000000  \n",
      "max        1.000000  \n",
      "\n",
      "[8 rows x 171 columns]\n"
     ]
    }
   ],
   "source": [
    "print(df_train.describe())"
   ]
  },
  {
   "cell_type": "markdown",
   "metadata": {},
   "source": [
    "### 2d) Count class attributes"
   ]
  },
  {
   "cell_type": "code",
   "execution_count": 25,
   "metadata": {},
   "outputs": [
    {
     "name": "stdout",
     "output_type": "stream",
     "text": [
      "targetVar\n",
      "0    59000\n",
      "1     1000\n",
      "dtype: int64\n"
     ]
    }
   ],
   "source": [
    "print(df_train.groupby('targetVar').size())"
   ]
  },
  {
   "cell_type": "markdown",
   "metadata": {},
   "source": [
    "This is an imbalance class where the positive (1) target variable is much lesser than the negative (0). However, we can treat this imbalance dataset using SMOTE technique but for the purpose of fast experimentation, we will not care too much about this before getting any results. "
   ]
  },
  {
   "cell_type": "markdown",
   "metadata": {},
   "source": [
    "### 2d) Count missing values"
   ]
  },
  {
   "cell_type": "code",
   "execution_count": 26,
   "metadata": {},
   "outputs": [
    {
     "name": "stdout",
     "output_type": "stream",
     "text": [
      "aa_000           0\n",
      "ab_000       46329\n",
      "ac_000        3335\n",
      "ad_000       14861\n",
      "ae_000        2500\n",
      "             ...  \n",
      "ee_008         671\n",
      "ee_009         671\n",
      "ef_000        2724\n",
      "eg_000        2723\n",
      "targetVar        0\n",
      "Length: 171, dtype: int64\n"
     ]
    }
   ],
   "source": [
    "print(df_train.isnull().sum())"
   ]
  },
  {
   "cell_type": "code",
   "execution_count": 27,
   "metadata": {},
   "outputs": [
    {
     "name": "stdout",
     "output_type": "stream",
     "text": [
      "aa_000           0\n",
      "ab_000       12363\n",
      "ac_000         926\n",
      "ad_000        3981\n",
      "ae_000         690\n",
      "             ...  \n",
      "ee_008         192\n",
      "ee_009         192\n",
      "ef_000         762\n",
      "eg_000         762\n",
      "targetVar        0\n",
      "Length: 171, dtype: int64\n"
     ]
    }
   ],
   "source": [
    "print(df_test.isnull().sum())"
   ]
  },
  {
   "cell_type": "markdown",
   "metadata": {},
   "source": [
    "### 2e) Multivariate analysis - see the relationship between variables"
   ]
  },
  {
   "cell_type": "code",
   "execution_count": 28,
   "metadata": {},
   "outputs": [
    {
     "data": {
      "image/png": "[encoded data removed]",
      "text/plain": [
       "<Figure size 432x288 with 2 Axes>"
      ]
     },
     "metadata": {
      "needs_background": "light"
     },
     "output_type": "display_data"
    }
   ],
   "source": [
    "fig = pyplot.figure()\n",
    "ax = fig.add_subplot(111)\n",
    "cax = ax.matshow(df_train.corr(), vmin=-1, vmax=1)\n",
    "fig.colorbar(cax)\n",
    "pyplot.show()"
   ]
  },
  {
   "cell_type": "markdown",
   "metadata": {},
   "source": [
    "### 3a) Data cleaning - replace Nan with 0 value"
   ]
  },
  {
   "cell_type": "code",
   "execution_count": 29,
   "metadata": {},
   "outputs": [
    {
     "name": "stdout",
     "output_type": "stream",
     "text": [
      "    aa_000  ab_000        ac_000  ad_000  ae_000  af_000  ag_000  ag_001  \\\n",
      "0    76698     0.0  2.130706e+09   280.0     0.0     0.0     0.0     0.0   \n",
      "1    33058     0.0  0.000000e+00     0.0     0.0     0.0     0.0     0.0   \n",
      "2    41040     0.0  2.280000e+02   100.0     0.0     0.0     0.0     0.0   \n",
      "3       12     0.0  7.000000e+01    66.0     0.0    10.0     0.0     0.0   \n",
      "4    60874     0.0  1.368000e+03   458.0     0.0     0.0     0.0     0.0   \n",
      "5    38312     0.0  2.130706e+09   218.0     0.0     0.0     0.0     0.0   \n",
      "6       14     0.0  6.000000e+00     0.0     0.0     0.0     0.0     0.0   \n",
      "7   102960     0.0  2.130706e+09   116.0     0.0     0.0     0.0     0.0   \n",
      "8    78696     0.0  0.000000e+00     0.0     0.0     0.0     0.0     0.0   \n",
      "9   153204     0.0  1.820000e+02     0.0     0.0     0.0     0.0     0.0   \n",
      "10   39196     0.0  2.040000e+02   170.0     0.0     0.0     0.0     0.0   \n",
      "11   45912     0.0  0.000000e+00   454.0     0.0     0.0     0.0     0.0   \n",
      "12    2104     0.0  3.600000e+01    26.0     0.0     0.0     0.0     0.0   \n",
      "13  118950     0.0  1.390000e+03  1298.0     0.0     0.0     0.0     0.0   \n",
      "14   24416     0.0  0.000000e+00     0.0     0.0     0.0     0.0     0.0   \n",
      "15      14     0.0  6.200000e+01    34.0     0.0     0.0     0.0     0.0   \n",
      "16   31300     0.0  7.840000e+02   740.0     0.0     0.0     0.0     0.0   \n",
      "17     736     2.0  2.400000e+01    22.0    16.0    20.0     0.0     0.0   \n",
      "18     332     0.0  2.130706e+09    20.0     0.0     0.0     0.0     0.0   \n",
      "19    1432     0.0  2.130706e+09    82.0     0.0     0.0     0.0     0.0   \n",
      "\n",
      "    ag_002   ag_003  ...     ee_003     ee_004     ee_005     ee_006  \\\n",
      "0      0.0      0.0  ...   493384.0   721044.0   469792.0   339156.0   \n",
      "1      0.0      0.0  ...   178064.0   293306.0   245416.0   133654.0   \n",
      "2      0.0      0.0  ...   159812.0   423992.0   409564.0   320746.0   \n",
      "3      0.0    318.0  ...       46.0       58.0       44.0       10.0   \n",
      "4      0.0      0.0  ...   229790.0   405298.0   347188.0   286954.0   \n",
      "5      0.0      0.0  ...   288278.0   900430.0   300412.0     1534.0   \n",
      "6      0.0      0.0  ...       48.0       60.0       28.0        0.0   \n",
      "7      0.0      0.0  ...   384948.0   915978.0  1052166.0  1108672.0   \n",
      "8      0.0      0.0  ...   362510.0  1190028.0  1012704.0   160090.0   \n",
      "9      0.0  11804.0  ...    26872.0    34044.0    22472.0    34362.0   \n",
      "10     0.0      0.0  ...    99614.0   215734.0   189966.0   219996.0   \n",
      "11     0.0      0.0  ...   278660.0   544710.0   438256.0   249386.0   \n",
      "12  9744.0  13148.0  ...     2330.0     4634.0     6534.0    29980.0   \n",
      "13     0.0      0.0  ...  1380302.0  2531322.0   426284.0    17996.0   \n",
      "14     0.0      0.0  ...    95674.0   207476.0   232470.0   154962.0   \n",
      "15     0.0      0.0  ...       42.0       48.0       28.0       32.0   \n",
      "16     0.0  20386.0  ...   112724.0    51736.0     7054.0     6628.0   \n",
      "17     0.0   1144.0  ...      812.0     2488.0     2340.0     2566.0   \n",
      "18     0.0      0.0  ...      296.0      878.0    11774.0        8.0   \n",
      "19     0.0      0.0  ...     1480.0     4822.0    53694.0     1116.0   \n",
      "\n",
      "      ee_007    ee_008   ee_009  ef_000  eg_000  targetVar  \n",
      "0   157956.0   73224.0      0.0     0.0     0.0          0  \n",
      "1    81140.0   97576.0   1500.0     0.0     0.0          0  \n",
      "2   158022.0   95128.0    514.0     0.0     0.0          0  \n",
      "3        0.0       0.0      0.0     4.0    32.0          0  \n",
      "4   311560.0  433954.0   1218.0     0.0     0.0          0  \n",
      "5      338.0     856.0      0.0     0.0     0.0          0  \n",
      "6        0.0       0.0      0.0     0.0     0.0          0  \n",
      "7   341532.0  129504.0   7832.0     0.0     0.0          0  \n",
      "8    63216.0   41202.0      4.0     0.0     0.0          0  \n",
      "9        0.0       0.0      0.0     0.0     0.0          1  \n",
      "10  208724.0  463790.0  34054.0     0.0     0.0          0  \n",
      "11   73356.0   51344.0   2008.0     0.0     0.0          0  \n",
      "12   39372.0       0.0      0.0     0.0     0.0          0  \n",
      "13   11734.0   12506.0    138.0     0.0     0.0          0  \n",
      "14   99406.0  121544.0   2712.0     0.0     0.0          0  \n",
      "15      10.0       0.0      0.0     0.0     0.0          0  \n",
      "16   27600.0       2.0      2.0     0.0     0.0          0  \n",
      "17   20870.0      38.0      0.0     0.0     0.0          0  \n",
      "18       0.0       0.0      0.0     0.0     0.0          0  \n",
      "19      16.0       0.0      0.0     0.0     0.0          0  \n",
      "\n",
      "[20 rows x 171 columns]\n"
     ]
    }
   ],
   "source": [
    "df_train.fillna(0, inplace=True)\n",
    "df_test.fillna(0, inplace=True)\n",
    "print(df_train.head(20))"
   ]
  },
  {
   "cell_type": "markdown",
   "metadata": {},
   "source": [
    "### 3b) Feature selection - n/a\n",
    "### 3c) Data transform - n/a"
   ]
  },
  {
   "cell_type": "markdown",
   "metadata": {},
   "source": [
    "### 3c) Split out training and test datasets "
   ]
  },
  {
   "cell_type": "code",
   "execution_count": 30,
   "metadata": {},
   "outputs": [
    {
     "name": "stdout",
     "output_type": "stream",
     "text": [
      "X_train.shape: (60000, 170) Y_train.shape: (60000,)\n",
      "X_validation.shape: (16000, 170) Y_validation.shape: (16000,)\n",
      "Total time for data handling and visualization: 0:00:18.090044\n"
     ]
    }
   ],
   "source": [
    "seedNum = 777\n",
    "totCol = len(df_train.columns)\n",
    "array = df_train.values\n",
    "X_train = array[:,0:totCol-1]\n",
    "Y_train = array[:,totCol-1]\n",
    "totCol = len(df_test.columns)\n",
    "array = df_test.values\n",
    "X_validation = array[:,0:totCol-1]\n",
    "Y_validation = array[:,totCol-1]\n",
    "print(\"X_train.shape: {} Y_train.shape: {}\".format(X_train.shape, Y_train.shape))\n",
    "print(\"X_validation.shape: {} Y_validation.shape: {}\".format(X_validation.shape, Y_validation.shape))\n",
    "print ('Total time for data handling and visualization:',(datetime.now() - startTimeScript))"
   ]
  },
  {
   "cell_type": "markdown",
   "metadata": {},
   "source": [
    "### 4) Model and Evaluate Algorithm"
   ]
  },
  {
   "cell_type": "markdown",
   "metadata": {},
   "source": [
    "#### 4a) Set test options and evaluation metric"
   ]
  },
  {
   "cell_type": "code",
   "execution_count": 31,
   "metadata": {},
   "outputs": [],
   "source": [
    "num_folds = 10\n",
    "scoring = 'accuracy'"
   ]
  },
  {
   "cell_type": "code",
   "execution_count": 32,
   "metadata": {},
   "outputs": [],
   "source": [
    "models = []\n",
    "models.append(('NB', GaussianNB()))\n",
    "models.append(('RF', RandomForestClassifier(random_state=seedNum)))\n",
    "# models.append(('GBM', GradientBoostingClassifier(random_state=seedNum)))\n",
    "results = []\n",
    "names = []\n",
    "metrics = []"
   ]
  },
  {
   "cell_type": "code",
   "execution_count": 33,
   "metadata": {},
   "outputs": [
    {
     "name": "stdout",
     "output_type": "stream",
     "text": [
      "NB: 0.967333 (0.002400)\n",
      "Model training time: 0:00:00.976109\n",
      "RF: 0.993583 (0.000837)\n",
      "Model training time: 0:09:00.344908\n",
      "Average metrics (accuracy) from all models: 0.9804583333333333\n"
     ]
    }
   ],
   "source": [
    "for name, model in models:\n",
    "\tstartTimeModule = datetime.now()\n",
    "\tkfold = KFold(n_splits=num_folds, random_state=seedNum, shuffle=True)\n",
    "\tcv_results = cross_val_score(model, X_train, Y_train, cv=kfold, scoring=scoring)\n",
    "\tresults.append(cv_results)\n",
    "\tnames.append(name)\n",
    "\tmetrics.append(cv_results.mean())\n",
    "\tmsg = \"%s: %f (%f)\" % (name, cv_results.mean(), cv_results.std())\n",
    "\tprint(msg)\n",
    "\tprint ('Model training time:',(datetime.now() - startTimeModule))\n",
    "print ('Average metrics ('+scoring+') from all models:',np.mean(metrics))"
   ]
  },
  {
   "cell_type": "markdown",
   "metadata": {},
   "source": [
    "#### 4a) Set test options and evaluation metric"
   ]
  },
  {
   "cell_type": "code",
   "execution_count": 34,
   "metadata": {},
   "outputs": [
    {
     "data": {
      "image/png": "[encoded data removed]",
      "text/plain": [
       "<Figure size 432x288 with 1 Axes>"
      ]
     },
     "metadata": {
      "needs_background": "light"
     },
     "output_type": "display_data"
    }
   ],
   "source": [
    "fig = pyplot.figure()\n",
    "fig.suptitle('Algorithm Comparison - Spot Checking')\n",
    "ax = fig.add_subplot(111)\n",
    "pyplot.boxplot(results)\n",
    "ax.set_xticklabels(names)\n",
    "pyplot.show()"
   ]
  },
  {
   "cell_type": "markdown",
   "metadata": {},
   "source": [
    "### 5) Improving accuracy"
   ]
  },
  {
   "cell_type": "markdown",
   "metadata": {},
   "source": [
    "#### 5a) Hyperparameter tuning"
   ]
  },
  {
   "cell_type": "code",
   "execution_count": null,
   "metadata": {},
   "outputs": [],
   "source": [
    "# results = []\n",
    "# names = []\n",
    "\n",
    "# startTimeModule = datetime.now()\n",
    "# paramGrid1 = dict(n_estimators=np.array([75,100,125,150,175]))\n",
    "# model1 = RandomForestClassifier(random_state=seedNum)\n",
    "# kfold = KFold(n_splits=num_folds, shuffle=True, random_state=seedNum)\n",
    "# grid1 = GridSearchCV(estimator=model1, param_grid=paramGrid1, scoring=scoring, cv=kfold)\n",
    "# grid_result1 = grid1.fit(X_train, Y_train)\n",
    "\n",
    "# print(\"Best: %f using %s\" % (grid_result1.best_score_, grid_result1.best_params_))\n",
    "# results.append(grid_result1.cv_results_['mean_test_score'])\n",
    "# names.append('RF')\n",
    "# means = grid_result1.cv_results_['mean_test_score']\n",
    "# stds = grid_result1.cv_results_['std_test_score']\n",
    "# params = grid_result1.cv_results_['params']\n",
    "# for mean, stdev, param in zip(means, stds, params):\n",
    "#     print(\"%f (%f) with: %r\" % (mean, stdev, param))\n",
    "# print ('Model training time:',(datetime.now() - startTimeModule))"
   ]
  },
  {
   "cell_type": "markdown",
   "metadata": {},
   "source": [
    "#### Compare algorithm here if we use more than 1 algorithm for tuning"
   ]
  },
  {
   "cell_type": "code",
   "execution_count": 35,
   "metadata": {},
   "outputs": [
    {
     "data": {
      "image/png": "[encoded data removed]",
      "text/plain": [
       "<Figure size 432x288 with 1 Axes>"
      ]
     },
     "metadata": {
      "needs_background": "light"
     },
     "output_type": "display_data"
    }
   ],
   "source": [
    "fig = pyplot.figure()\n",
    "fig.suptitle('Algorithm Comparison - Post Tuning')\n",
    "ax = fig.add_subplot(111)\n",
    "pyplot.boxplot(results)\n",
    "ax.set_xticklabels(names)\n",
    "pyplot.show()"
   ]
  },
  {
   "cell_type": "markdown",
   "metadata": {},
   "source": [
    "### 6) Finalize model\n",
    "\n",
    "- Using an optimal model tuned to make predictions on unseen data\n",
    "- Creating standalone model using the tuned parameters\n",
    "- Saving an optimal model to file or blob for later use"
   ]
  },
  {
   "cell_type": "markdown",
   "metadata": {},
   "source": [
    "#### 6a) Prediction for test set"
   ]
  },
  {
   "cell_type": "code",
   "execution_count": 36,
   "metadata": {},
   "outputs": [
    {
     "name": "stdout",
     "output_type": "stream",
     "text": [
      "[[15605    20]\n",
      " [  104   271]]\n"
     ]
    }
   ],
   "source": [
    "model = RandomForestClassifier(n_estimators=175, random_state=seedNum)\n",
    "model.fit(X_train, Y_train)\n",
    "predictions = model.predict(X_validation)\n",
    "# print(accuracy_score(Y_validation, predictions))\n",
    "print(confusion_matrix(Y_validation, predictions))\n",
    "# print(classification_report(Y_validation, predictions))"
   ]
  },
  {
   "cell_type": "markdown",
   "metadata": {},
   "source": [
    "#### 6b) Create standalone model on entire training dataset"
   ]
  },
  {
   "cell_type": "code",
   "execution_count": 37,
   "metadata": {},
   "outputs": [
    {
     "name": "stdout",
     "output_type": "stream",
     "text": [
      "Model training time: 0:01:41.737038\n"
     ]
    }
   ],
   "source": [
    "startTimeModule = datetime.now()\n",
    "finalModel = RandomForestClassifier(n_estimators=175, random_state=seedNum)\n",
    "finalModel.fit(X_train, Y_train)\n",
    "print ('Model training time:',(datetime.now() - startTimeModule))"
   ]
  },
  {
   "cell_type": "markdown",
   "metadata": {},
   "source": [
    "#### 6c) Save model for later use"
   ]
  },
  {
   "cell_type": "code",
   "execution_count": 38,
   "metadata": {},
   "outputs": [
    {
     "name": "stdout",
     "output_type": "stream",
     "text": [
      "Total time for the script: 0:13:19.573983\n"
     ]
    }
   ],
   "source": [
    "modelName = 'finalModel_BinaryClass.sav'\n",
    "dump(finalModel, modelName)\n",
    "\n",
    "print ('Total time for the script:',(datetime.now() - startTimeScript))"
   ]
  },
  {
   "cell_type": "markdown",
   "metadata": {},
   "source": [
    "#### 6d) Challenge metric section"
   ]
  },
  {
   "cell_type": "code",
   "execution_count": 44,
   "metadata": {},
   "outputs": [
    {
     "name": "stdout",
     "output_type": "stream",
     "text": [
      "Total cost for RF model is 52200\n"
     ]
    }
   ],
   "source": [
    "cm = confusion_matrix(Y_validation, predictions).ravel()\n",
    "cm = pd.DataFrame(cm.reshape((1,4)), columns=['TN', 'FP', 'FN', 'TP'])\n",
    "\n",
    "total_cost = 10*(cm.FP[0]) + 500*(cm.FN[0])\n",
    "print(f\"Total cost for RF model is {total_cost}\")"
   ]
  },
  {
   "cell_type": "code",
   "execution_count": 47,
   "metadata": {},
   "outputs": [
    {
     "name": "stdout",
     "output_type": "stream",
     "text": [
      "20 52000\n"
     ]
    }
   ],
   "source": [
    "print(cm.FP[0], cm.FN[0]*500)"
   ]
  },
  {
   "cell_type": "code",
   "execution_count": 59,
   "metadata": {},
   "outputs": [
    {
     "ename": "TypeError",
     "evalue": "fit_transform() missing 1 required positional argument: 'X'",
     "output_type": "error",
     "traceback": [
      "\u001b[0;31m---------------------------------------------------------------------------\u001b[0m",
      "\u001b[0;31mTypeError\u001b[0m                                 Traceback (most recent call last)",
      "\u001b[0;32m<ipython-input-59-ca98797224fd>\u001b[0m in \u001b[0;36m<module>\u001b[0;34m\u001b[0m\n\u001b[1;32m      1\u001b[0m \u001b[0;32mfrom\u001b[0m \u001b[0msklearn\u001b[0m\u001b[0;34m.\u001b[0m\u001b[0mpreprocessing\u001b[0m \u001b[0;32mimport\u001b[0m \u001b[0mMinMaxScaler\u001b[0m\u001b[0;34m\u001b[0m\u001b[0;34m\u001b[0m\u001b[0m\n\u001b[1;32m      2\u001b[0m \u001b[0;34m\u001b[0m\u001b[0m\n\u001b[0;32m----> 3\u001b[0;31m \u001b[0mX_scaled_train\u001b[0m \u001b[0;34m=\u001b[0m \u001b[0mMinMaxScaler\u001b[0m\u001b[0;34m.\u001b[0m\u001b[0mfit_transform\u001b[0m\u001b[0;34m(\u001b[0m\u001b[0mX_train\u001b[0m\u001b[0;34m)\u001b[0m\u001b[0;34m\u001b[0m\u001b[0;34m\u001b[0m\u001b[0m\n\u001b[0m\u001b[1;32m      4\u001b[0m \u001b[0;31m# X_scaled_validation = MinMaxScaler(X_validation)\u001b[0m\u001b[0;34m\u001b[0m\u001b[0;34m\u001b[0m\u001b[0;34m\u001b[0m\u001b[0m\n\u001b[1;32m      5\u001b[0m \u001b[0;34m\u001b[0m\u001b[0m\n",
      "\u001b[0;31mTypeError\u001b[0m: fit_transform() missing 1 required positional argument: 'X'"
     ]
    }
   ],
   "source": [
    "from sklearn.preprocessing import MinMaxScaler\n",
    "\n",
    "X_scaled_train = MinMaxScaler.fit_transform(X_train)\n",
    "# X_scaled_validation = MinMaxScaler(X_validation)\n",
    "\n",
    "X_scaled_train.head()\n",
    "\n",
    "# model = RandomForestClassifier(n_estimators=175, random_state=seedNum)\n",
    "# model.fit(X_scaled_train, Y_train)\n",
    "# predictions = model.predict(X_scaled_validation)\n",
    "# print(predictions)\n",
    "\n",
    "# cm = confusion_matrix(Y_validation, predictions).ravel()\n",
    "# cm = pd.DataFrame(cm.reshape((1,4)), columns=['TN', 'FP', 'FN', 'TP'])\n",
    "\n",
    "# total_cost = 10*(cm.FP[0]) + 500*(cm.FN[0])\n",
    "# print(f\"Total cost for RF model is {total_cost}\")"
   ]
  },
  {
   "cell_type": "code",
   "execution_count": 61,
   "metadata": {},
   "outputs": [
    {
     "data": {
      "text/plain": [
       "array([[7.66980000e+04, 0.00000000e+00, 2.13070644e+09, ...,\n",
       "        0.00000000e+00, 0.00000000e+00, 0.00000000e+00],\n",
       "       [3.30580000e+04, 0.00000000e+00, 0.00000000e+00, ...,\n",
       "        1.50000000e+03, 0.00000000e+00, 0.00000000e+00],\n",
       "       [4.10400000e+04, 0.00000000e+00, 2.28000000e+02, ...,\n",
       "        5.14000000e+02, 0.00000000e+00, 0.00000000e+00],\n",
       "       ...,\n",
       "       [1.12000000e+02, 0.00000000e+00, 2.13070643e+09, ...,\n",
       "        0.00000000e+00, 0.00000000e+00, 0.00000000e+00],\n",
       "       [8.02920000e+04, 0.00000000e+00, 2.13070643e+09, ...,\n",
       "        3.88422000e+05, 0.00000000e+00, 0.00000000e+00],\n",
       "       [4.02220000e+04, 0.00000000e+00, 6.98000000e+02, ...,\n",
       "        1.58000000e+02, 0.00000000e+00, 0.00000000e+00]])"
      ]
     },
     "execution_count": 61,
     "metadata": {},
     "output_type": "execute_result"
    }
   ],
   "source": [
    "X_train"
   ]
  },
  {
   "cell_type": "code",
   "execution_count": null,
   "metadata": {},
   "outputs": [],
   "source": []
  }
 ],
 "metadata": {
  "kernelspec": {
   "display_name": "Python 3",
   "language": "python",
   "name": "python3"
  },
  "language_info": {
   "codemirror_mode": {
    "name": "ipython",
    "version": 3
   },
   "file_extension": ".py",
   "mimetype": "text/x-python",
   "name": "python",
   "nbconvert_exporter": "python",
   "pygments_lexer": "ipython3",
   "version": "3.6.9"
  }
 },
 "nbformat": 4,
 "nbformat_minor": 4
}
